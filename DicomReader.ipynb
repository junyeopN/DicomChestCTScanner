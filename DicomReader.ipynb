{
 "cells": [
  {
   "cell_type": "code",
   "execution_count": null,
   "metadata": {},
   "outputs": [],
   "source": [
    "import pydicom\n",
    "from PIL import Image\n",
    "import numpy as np\n",
    "import cv2\n",
    "import os"
   ]
  },
  {
   "cell_type": "code",
   "execution_count": null,
   "metadata": {},
   "outputs": [],
   "source": [
    "def read_dicom(file):\n",
    "    data = pydicom.dcmread(file)\n",
    "    pixels = data.pixel_array\n",
    "    return (pixels//16).astype('uint8')\n",
    "\n",
    "def dicom2png(path, save_path):\n",
    "    for file in os.listdir(path):\n",
    "        name = os.path.splitext(file)[0]\n",
    "        img = read_dicom(os.path.join(path, file))\n",
    "        Image.fromarray(img).save(os.path.join(save_path, f\"{name}.png\"))"
   ]
  },
  {
   "cell_type": "code",
   "execution_count": null,
   "metadata": {},
   "outputs": [],
   "source": [
    "img = read_dicom(\"41808971/18163306/20170810/10126.dcm\")\n",
    "Image.fromarray(img)"
   ]
  },
  {
   "cell_type": "code",
   "execution_count": null,
   "metadata": {},
   "outputs": [],
   "source": [
    "for i in range(10120, 10130):\n",
    "    img = read_dicom(f\"41808971/18163306/20170810/{i}.dcm\")\n",
    "    cv2.imshow(\"\", img)\n",
    "    cv2.waitKey(50)\n",
    "cv2.waitKey(0)"
   ]
  },
  {
   "cell_type": "code",
   "execution_count": null,
   "metadata": {},
   "outputs": [],
   "source": [
    "dicom2png(\"41808971/18163306/20170810\", \"data/a\")"
   ]
  },
  {
   "cell_type": "code",
   "execution_count": null,
   "metadata": {},
   "outputs": [],
   "source": []
  }
 ],
 "metadata": {
  "kernelspec": {
   "display_name": "Python 3",
   "language": "python",
   "name": "python3"
  },
  "language_info": {
   "codemirror_mode": {
    "name": "ipython",
    "version": 3
   },
   "file_extension": ".py",
   "mimetype": "text/x-python",
   "name": "python",
   "nbconvert_exporter": "python",
   "pygments_lexer": "ipython3",
   "version": "3.7.3"
  }
 },
 "nbformat": 4,
 "nbformat_minor": 4
}
